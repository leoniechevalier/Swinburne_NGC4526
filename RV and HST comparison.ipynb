{
 "cells": [
  {
   "cell_type": "code",
   "execution_count": 33,
   "metadata": {
    "collapsed": false
   },
   "outputs": [
    {
     "name": "stdout",
     "output_type": "stream",
     "text": [
      "/Users/lchevalier/Dropbox/Project1_N4526/sextractor\n"
     ]
    }
   ],
   "source": [
    "%cd /Users/lchevalier/Dropbox/Project1_N4526/sextractor"
   ]
  },
  {
   "cell_type": "code",
   "execution_count": 2,
   "metadata": {
    "collapsed": false
   },
   "outputs": [
    {
     "name": "stderr",
     "output_type": "stream",
     "text": [
      "/Users/lchevalier/Downloads/Ureka/variants/common/lib/python2.7/site-packages/IPython/kernel/__init__.py:13: ShimWarning: The `IPython.kernel` package has been deprecated. You should import from ipykernel or jupyter_client instead.\n",
      "  \"You should import from ipykernel or jupyter_client instead.\", ShimWarning)\n"
     ]
    }
   ],
   "source": [
    "import numpy as np\n",
    "from astropy.io import fits\n",
    "from astropy.io import ascii\n",
    "import matplotlib.pyplot as plt\n",
    "import scipy as sc\n",
    "import matplotlib.path as mpath\n",
    "import matplotlib.lines as mlines\n",
    "import matplotlib.patches as mpatches\n",
    "from matplotlib.collections import PatchCollection\n",
    "from sklearn import mixture\n",
    "#from sklearn.mixture import GaussianMixture\n",
    "from scipy.stats import norm\n",
    "import matplotlib.mlab as mlab\n",
    "from cycler import cycler\n",
    "from numpy import append\n",
    "%matplotlib inline"
   ]
  },
  {
   "cell_type": "code",
   "execution_count": 24,
   "metadata": {
    "collapsed": false
   },
   "outputs": [
    {
     "name": "stdout",
     "output_type": "stream",
     "text": [
      "[ 20.88870811  21.86543274  20.93758202  21.22445869  21.26227188\n",
      "  21.67663765  21.71241188  21.93358231  21.83315468  20.52600861\n",
      "  21.02112579  21.70281601  21.64966202  21.19023323  21.69105911\n",
      "  20.52775002  21.4637661   21.25343704  20.44548798  21.73914719\n",
      "  21.68307114  21.00860405  20.91868019  21.76505089  21.70014191\n",
      "  21.43769836  20.61918259  23.25863457  22.43811798  22.15404129\n",
      "  22.03367424  20.27500725  21.42931747  20.88939857  21.24027443\n",
      "  21.87591743  19.61740494  21.46978569  20.75025177  21.49824905\n",
      "  22.32955933  21.45035553  21.06221008]\n",
      "[ 0.94429207  0.99156761  0.98041725  1.11154175  1.19672775  1.18736267\n",
      "  1.1565876   0.98041725  1.16684532  0.92199135  0.95187378  0.94518471\n",
      "  1.21233749  0.95276642  0.93894005  0.93224907  1.24623299  0.95856285\n",
      "  0.97551155  1.00985336  1.19092941  0.91039658  0.9523201   1.13294983\n",
      "  0.94785881  1.13830185  1.15881729  1.22036552  1.01788139  1.19895935\n",
      "  1.11332512  1.04999352  1.05668259  0.93760109  1.06872559  1.10708237\n",
      "  0.99959564  1.0812149   0.9157486   0.94875145  1.27344131  0.94964409\n",
      "  1.15078926]\n",
      "107\n"
     ]
    }
   ],
   "source": [
    "#filename='25_08_16_g_i.fits'\n",
    "filename='N4526_HST_candidate_match.fits'\n",
    "filename1='N4526_comp.fits'\n",
    "filename3='N4526_HST_RV_match.fits'\n",
    "filename2='HST_2009.fits'\n",
    "#filename='CFST_match_18_08_16.fits'\n",
    "hdulist=fits.open(filename)\n",
    "hdulist2=fits.open(filename1)\n",
    "hdulist3=fits.open(filename3)\n",
    "N4526=hdulist[1].data\n",
    "HST_RV=hdulist3[1].data\n",
    "hdulist_hst=fits.open(filename2)\n",
    "RV=hdulist2[1].data\n",
    "HST=hdulist_hst[1].data\n",
    "\n",
    "iamag = HST_RV['zamag']+(0.554*(HST_RV['gamag']-HST_RV['zamag']))-0.542\n",
    "print iamag\n",
    "#g_i = 0.735*(HST_RV['gamag']-HST_RV['zamag'])+0.147\n",
    "g_i = HST_RV['gamag']-iamag\n",
    "print g_i\n",
    "#cols=hdulist1[1].columns\n",
    "Imag='col3'\n",
    "Gmag='col4'\n",
    "Rmag='col5'\n",
    "\n",
    "print len (RV)"
   ]
  },
  {
   "cell_type": "code",
   "execution_count": 4,
   "metadata": {
    "collapsed": true
   },
   "outputs": [],
   "source": [
    "def AB_mag(mag,dist):\n",
    "    if dist<10**5:\n",
    "        dist=dist*(10**6)\n",
    "        #print 'Distance was not entered in pc. And was now converted!!'\n",
    "    else:\n",
    "        pass#print ''\n",
    "    AB= mag - (5*np.log10(dist/10))\n",
    "    \n",
    "    return AB\n",
    "\n",
    "def best_fit(X, Y):\n",
    "    \n",
    "    xbar = np.mean(X)#sum(X)/len(X)\n",
    "    ybar = np.mean(Y)#sum(Y)/len(Y)\n",
    "    n = len(X) # or len(Y)\n",
    "\n",
    "    numer = sum([xi*yi for xi,yi in zip(X, Y)]) - n * xbar * ybar\n",
    "    denum = sum([xi**2 for xi in X]) - n * xbar**2\n",
    "\n",
    "    b = numer / denum\n",
    "    a = ybar - b * xbar\n",
    "\n",
    "    print('best fit line:\\ny = {:.2f} + {:.2f}x'.format(a, b))\n",
    "\n",
    "    return a, b\n",
    "\n",
    "def diviation(sources):\n",
    "    x=sources\n",
    "    lenght= len(sources)\n",
    "    mean=np.mean(sources)\n",
    "    standart_dev=(sum((x-mean)**2)/lenght)**0.5\n",
    "    variance=(sum((x-mean)**2)/lenght)\n",
    "    \n",
    "    return standart_dev,variance\n",
    "\n",
    "def RMS(sources):\n",
    "    mag= sources\n",
    "    rms=np.sqrt(np.mean(mag**2))\n",
    "    \n",
    "    return rms\n",
    "\n",
    "def FWHM(sources):\n",
    "    fwhm=2*np.sqrt(2*np.log(2)*diviation(sources)[0])\n",
    "    \n",
    "    return fwhm\n",
    "\n",
    "def Pritchet_f (mag, mag_0, a ):\n",
    "    f=0.5 *(1-(a*(mag-mag_0))/(1+(a**2)*(mag-mag_0)**2)**0.5)\n",
    "    \n",
    "    return f\n",
    "\n",
    "def density(Dist):\n",
    "    dist= np.arange(1,max(Dist),1)\n",
    "    bins=[]\n",
    "    #annuli= np.pi*dist**2\n",
    "    for i in dist:\n",
    "       bins.append( len(Dist[Dist <= i]))\n",
    "    return (bins)\n",
    "\n",
    "def gaussian(x, mu, sig, norm=1):\n",
    "    return (np.exp(-np.power(x - mu, 2.) / (2 * np.power(sig, 2.))))*norm\n",
    "\n",
    "def fit_mixture(data, ncomp=2, doplot=False, bins=200):# only fits up to 4 comp at the moment need to change colours o fit more\n",
    "    clf = mixture.GMM(n_components=ncomp, covariance_type='full', n_iter=100, n_init=10) # different types of covariance ???\n",
    "    clf.fit(data)\n",
    "    ml = clf.means_\n",
    "    wl = clf.weights_\n",
    "    cl = clf.covars_\n",
    "    ms = [m[0] for m in ml]\n",
    "    cs = [np.sqrt(c[0][0]) for c in cl]\n",
    "    ws = [w for w in wl]\n",
    "    colours= ['b', 'r', 'g', 'y']\n",
    "    col =[]\n",
    "    #print col\n",
    "    for i in np.arange(0,ncomp,1):\n",
    "        col.append(colours[i])\n",
    "    if doplot == True:\n",
    "        histo = plt.hist(data, bins, normed=True, color='black', histtype='step')\n",
    "        #plt.rc('axes', prop_cycle=(cycler('color', ['b', 'r', 'g', 'y'])))\n",
    "        #ax.set_prop_cycle(cycler('color', ['b', 'r', 'g', 'y']))\n",
    "        for w, m, c, cl in zip(ws, ms, cs, col):\n",
    "            plt.plot(histo[1],w*mlab.normpdf(histo[1],m,c), linewidth=3, color = cl)\n",
    "    return ms, cs, ws #where ms= means cs=covaiance and ws = weights ?!\n",
    "\n",
    "# 0.3<g-r<0.9\n",
    "# 0.5<g-i<1.3\n",
    "\n",
    "cut_gr = [0.3,0.9,0.1,0.1]\n",
    "cut_gi = [0.5,1.3,0.1,0.1]\n",
    "cut_ri= [0,0.6]\n",
    "\n",
    "def Z_gr(gr_range):#all of these need errors on them !! Need a way to incorperate mean errors for g-i and g-r !!\n",
    "    a,b,a_err,b_err = gr_range\n",
    "    if (a<b)&(a<0.55)&(b>0.55):\n",
    "        Zmin= 12.23*a-8.04\n",
    "        Zmin_err = abs(((2.10/12.23)+(a_err/a))*Zmin+1.01)\n",
    "        Zmax=5.72*b-4.47\n",
    "        Zmax_err= abs(((0.20/5.72)+(b_err/b))*Zmax+0.11)\n",
    "    elif (a>b)&(b<0.55)&(a>0.55):\n",
    "        Zmin= 12.23*b-8.04\n",
    "        Zmin_err = abs(((2.10/12.23)+(b_err/b))*Zmin+1.01)\n",
    "        Zmax=5.72*a-4.47\n",
    "        Zmax_err= abs(((0.20/5.72)+(a_err/a))*Zmax+0.11)\n",
    "        \n",
    "    else: \n",
    "        #print 'help'\n",
    "\n",
    "        \n",
    "        return Zmin,Zmax, Zmin_err, Zmax_err    \n",
    "\n",
    "def Z_gi(gi_range):\n",
    "    a,b,a_err,b_err = gi_range\n",
    "    if (a<b)&(a<0.77)&(b>0.77):\n",
    "        Zmin= 7.46*a-7.09\n",
    "        Zmin_err = abs(((1.28/7.46)+(a_err/a))*Zmin+1.01)\n",
    "        Zmax=3.49*b-4.03\n",
    "        Zmax_err= abs(((0.12/3.49)+(b_err/b))*Zmax+0.11)\n",
    "    elif (a>b)&(b<0.55)&(a>0.55):\n",
    "        Zmin= 7.46*b-7.09\n",
    "        Zmin_err = abs(((1.28/7.46)+(b_err/b))*Zmin+1.01)\n",
    "        Zmax=3.49*a-4.03\n",
    "        Zmax_err= abs(((0.12/3.49)+(a_err/a))*Zmax+0.11)\n",
    "        \n",
    "    else: \n",
    "        #print ('help')\n",
    "\n",
    "        \n",
    "            return  Zmin,Zmax, Zmin_err, Zmax_err    \n",
    "    \n",
    "\n"
   ]
  },
  {
   "cell_type": "code",
   "execution_count": 25,
   "metadata": {
    "collapsed": false
   },
   "outputs": [
    {
     "name": "stdout",
     "output_type": "stream",
     "text": [
      "0.138755541544\n",
      "0.343943082449\n"
     ]
    }
   ],
   "source": [
    "mag_offset_g= N4526['gamag']-(N4526[Gmag])\n",
    "rms_offset_g=np.sqrt(np.mean(mag_offset_g**2))\n",
    "\n",
    "outliers_g=np.where(mag_offset_g>=1)\n",
    "other_g=np.where(mag_offset_g<=1)\n",
    "#print mag_offset_g\n",
    "print rms_offset_g\n",
    "\n",
    "mag_offset_i= N4526['zamag']-(N4526[Imag])\n",
    "rms_offset_i=np.sqrt(np.mean(mag_offset_i**2))\n",
    "\n",
    "outliers_i=np.where(mag_offset_i>=1)\n",
    "other_i=np.where(mag_offset_i<=1)\n",
    "#print mag_offset_i\n",
    "print rms_offset_i\n",
    "\n",
    "\n",
    "#mock points of the 1:1 fit line (same len as GMAG2)\n",
    "mock_points=np.arange(20,26.1,0.1)\n",
    "#G_I_APER =subtract(asarray(G_APER),asarray(I_APER))\n",
    "#G_Z_HST = subtract(asarray(G_gmag),asarray(I_gmag))\n",
    "\n",
    "#HST_APER = subtract(G_Z_HST,G_I_APER)\n",
    "#Z_I= subtract(I_gmag,I_APER)"
   ]
  },
  {
   "cell_type": "code",
   "execution_count": 27,
   "metadata": {
    "collapsed": false
   },
   "outputs": [],
   "source": [
    "D_RA=N4526['col1']-188.51262\n",
    "D_DEC=N4526['col2']-7.6991162\n",
    "q=0.43\n",
    "\n",
    "RV_RA=RV['RA']-188.51262\n",
    "RV_DEC=RV['DEC']-7.6991162\n",
    "\n",
    "HST_RV_RA=HST_RV['new_RA']-188.51262\n",
    "HST_RV_DEC=HST_RV['new_Dec']-7.6991162\n",
    "\n",
    "Dist= 16.4*(10**6)\n",
    "GDist= ((D_RA**2+(D_DEC**2))**0.5)*(60**2)\n",
    "GCD= ((q*D_RA**2+(D_DEC**2)/q)**0.5)*(60**2)\n",
    "\n",
    "Dist_HST_RV=((HST_RV_RA**2+(HST_RV_DEC**2))**0.5)*(60**2)\n",
    "GDist_HST_RV= (q*(HST_RV_RA**2+(HST_RV_DEC**2)/q)**0.5)*(60**2)\n",
    "\n",
    "Dist_RV=((RV_RA**2+(RV_DEC**2))**0.5)*(60**2)\n",
    "GDist_RV= (q*(RV_RA**2+(RV_DEC**2)/q)**0.5)*(60**2)\n",
    "#print GDist[GDist<1600]\n",
    "#GDist_sub= ((q*D_RA_sub**2+(D_DEC_sub**2)/q)**0.5)*(60)"
   ]
  },
  {
   "cell_type": "code",
   "execution_count": 28,
   "metadata": {
    "collapsed": false
   },
   "outputs": [
    {
     "data": {
      "image/png": "[encoded data removed]",
      "text/plain": [
       "<matplotlib.figure.Figure at 0x10a580890>"
      ]
     },
     "metadata": {},
     "output_type": "display_data"
    },
    {
     "data": {
      "image/png": "[encoded data removed]",
      "text/plain": [
       "<matplotlib.figure.Figure at 0x10aa3f2d0>"
      ]
     },
     "metadata": {},
     "output_type": "display_data"
    },
    {
     "data": {
      "image/png": "[encoded data removed]",
      "text/plain": [
       "<matplotlib.figure.Figure at 0x10a390bd0>"
      ]
     },
     "metadata": {},
     "output_type": "display_data"
    },
    {
     "data": {
      "image/png": "[encoded data removed]",
      "text/plain": [
       "<matplotlib.figure.Figure at 0x10c1782d0>"
      ]
     },
     "metadata": {},
     "output_type": "display_data"
    }
   ],
   "source": [
    "plt.figure()\n",
    "\n",
    "plt.scatter(N4526['gamag'],N4526[Gmag], alpha = 0.5, c='b')\n",
    "plt.plot(mock_points,mock_points, c='g')\n",
    "plt.xlabel('$gmag_{HST}$')\n",
    "plt.ylabel('$gmag_{APER}$')\n",
    "plt.xlim(20,26)\n",
    "plt.legend()\n",
    "\n",
    "\n",
    "#plt.savefig(filename[:-5]+'_G_zeropints.png')\n",
    "\n",
    "plt.figure()\n",
    "\n",
    "plt.subplot(211)\n",
    "#plt.title('GCs not found in R band')\n",
    "plt.scatter(N4526['gamag'],mag_offset_g, alpha = 0.5)\n",
    "plt.axhline(np.median(mag_offset_g) , c='g')\n",
    "plt.xlabel('g$_{ACSVCS}$ [mag]', size =10)\n",
    "plt.ylabel('g$_{ACSVCS}$ - g$_{SUBARU}$ [mag]', size=10)\n",
    "plt.xlim(20,26)\n",
    "plt.legend()\n",
    "\n",
    "\n",
    "\n",
    "plt.subplot(212)\n",
    "plt.scatter(N4526['gamag'],N4526[Gmag], c='b', alpha=0.5)\n",
    "#plt.title('GCs not found in R band')\n",
    "#plt.scatter(N4526['gamag'][selection_comp],N4526[Gmag][selection_comp],c='b', alpha = 0.5)\n",
    "\n",
    "#plt.plot(mock_points,mock_points, c='g')\n",
    "plt.xlabel('g$_{ACSVCS}$ [mag]', size =10)\n",
    "plt.ylabel('g$_{SUBARU}$ [mag]', size = 10 )\n",
    "plt.xlim(20,26)\n",
    "plt.legend()\n",
    "plt.fill_between(mock_points,mock_points-rms_offset_g,mock_points+rms_offset_g, interpolate= True , alpha = 0.2)\n",
    "plt.tight_layout()\n",
    "plt.savefig(filename[:-5]+'_Gband_offset.png')\n",
    "\n",
    "plt.figure()\n",
    "\n",
    "plt.subplot(211)\n",
    "#plt.title('GCs not found in R band')\n",
    "plt.scatter(N4526['zamag'],N4526['zamag']-N4526[Imag], alpha = 0.5, c='g')\n",
    "#plt.scatter(N4526['zamag'][selection_comp],N4526['zamag'][selection_comp]-N4526[Imag][selection_comp], alpha = 0.5, c='r')\n",
    "plt.axhline(np.median(N4526['zamag']-N4526[Imag]), label='median $\\Delta Mag$', c='g')\n",
    "plt.xlabel('$zmag_{HST}$')\n",
    "plt.ylabel('$\\Delta Mag_{HST-APER}$')\n",
    "plt.xlim(19,26)\n",
    "plt.legend()\n",
    "\n",
    "plt.subplot(212)\n",
    "\n",
    "#plt.title('GCs not found in R band')\n",
    "plt.scatter(N4526['zamag'],N4526[Imag], alpha = 0.5, c='g')\n",
    "#plt.scatter(N4526['zamag'][selection_comp],N4526[Imag][selection_comp], alpha = 0.5, c='r')\n",
    "plt.plot(mock_points,mock_points, c='g')\n",
    "plt.xlabel('$zamag_{HST}$')\n",
    "plt.ylabel('$imag_{APER}$')\n",
    "#plt.fill_between(mock_points,mock_points-rms_offset_i,mock_points+rms_offset_i, interpolate= True , alpha = 0.2)\n",
    "plt.xlim(19,26)\n",
    "#plt.ylim(18,26)\n",
    "plt.savefig(filename[:-5]+'_Iband_offset.png')\n",
    "\n",
    "\n",
    "plt.figure()\n",
    "\n",
    "plt.scatter(N4526['gmag']-N4526['zmag'],(N4526['gmag']-N4526['zmag'])-(N4526[Gmag]-N4526[Imag]))\n",
    "#plt.errorbar(G_Z_HST,subtract(G_Z_HST,G_I_APER),yerr=(ERR_G+ERR_i+ERR_g+ERR_z),xerr=(ERR_g+ERR_z),fmt= 'none')\n",
    "plt.ylabel('($gmag_{HST}-zmag_{HST})-(gmag_{APER}-imag_{APER})$')\n",
    "plt.xlabel('$gmag_{HST}-zmag_{HST}$')\n",
    "plt.xlim(0.5,2)\n",
    "plt.ylim(-5,5)\n",
    "plt.savefig(filename[:-5]+'_g-z_g-i.png')\n",
    "\n",
    "\n",
    "plt.show()"
   ]
  },
  {
   "cell_type": "code",
   "execution_count": 29,
   "metadata": {
    "collapsed": false,
    "scrolled": false
   },
   "outputs": [
    {
     "ename": "KeyError",
     "evalue": "\"Key 'col6' does not exist.\"",
     "output_type": "error",
     "traceback": [
      "\u001b[0;31m---------------------------------------------------------------------------\u001b[0m",
      "\u001b[0;31mKeyError\u001b[0m                                  Traceback (most recent call last)",
      "\u001b[0;32m<ipython-input-29-63646f56a91c>\u001b[0m in \u001b[0;36m<module>\u001b[0;34m()\u001b[0m\n\u001b[0;32m----> 1\u001b[0;31m \u001b[0mreds\u001b[0m\u001b[0;34m=\u001b[0m\u001b[0mRV\u001b[0m\u001b[0;34m[\u001b[0m\u001b[0;34m'col6'\u001b[0m\u001b[0;34m]\u001b[0m\u001b[0;34m>\u001b[0m\u001b[0;36m0.9\u001b[0m\u001b[0;34m\u001b[0m\u001b[0m\n\u001b[0m\u001b[1;32m      2\u001b[0m \u001b[0mblues\u001b[0m\u001b[0;34m=\u001b[0m\u001b[0mRV\u001b[0m\u001b[0;34m[\u001b[0m\u001b[0;34m'col6'\u001b[0m\u001b[0;34m]\u001b[0m\u001b[0;34m<=\u001b[0m\u001b[0;36m0.9\u001b[0m\u001b[0;34m\u001b[0m\u001b[0m\n\u001b[1;32m      3\u001b[0m \u001b[0;34m\u001b[0m\u001b[0m\n\u001b[1;32m      4\u001b[0m \u001b[0mplt\u001b[0m\u001b[0;34m.\u001b[0m\u001b[0mfigure\u001b[0m\u001b[0;34m(\u001b[0m\u001b[0;34m)\u001b[0m\u001b[0;34m\u001b[0m\u001b[0m\n\u001b[1;32m      5\u001b[0m \u001b[0;34m\u001b[0m\u001b[0m\n",
      "\u001b[0;32m/Users/lchevalier/Downloads/Ureka/python/lib/python2.7/site-packages/astropy/io/fits/fitsrec.pyc\u001b[0m in \u001b[0;36m__getitem__\u001b[0;34m(self, key)\u001b[0m\n\u001b[1;32m    483\u001b[0m     \u001b[0;32mdef\u001b[0m \u001b[0m__getitem__\u001b[0m\u001b[0;34m(\u001b[0m\u001b[0mself\u001b[0m\u001b[0;34m,\u001b[0m \u001b[0mkey\u001b[0m\u001b[0;34m)\u001b[0m\u001b[0;34m:\u001b[0m\u001b[0;34m\u001b[0m\u001b[0m\n\u001b[1;32m    484\u001b[0m         \u001b[0;32mif\u001b[0m \u001b[0misinstance\u001b[0m\u001b[0;34m(\u001b[0m\u001b[0mkey\u001b[0m\u001b[0;34m,\u001b[0m \u001b[0mstring_types\u001b[0m\u001b[0;34m)\u001b[0m\u001b[0;34m:\u001b[0m\u001b[0;34m\u001b[0m\u001b[0m\n\u001b[0;32m--> 485\u001b[0;31m             \u001b[0;32mreturn\u001b[0m \u001b[0mself\u001b[0m\u001b[0;34m.\u001b[0m\u001b[0mfield\u001b[0m\u001b[0;34m(\u001b[0m\u001b[0mkey\u001b[0m\u001b[0;34m)\u001b[0m\u001b[0;34m\u001b[0m\u001b[0m\n\u001b[0m\u001b[1;32m    486\u001b[0m         \u001b[0;32melif\u001b[0m \u001b[0misinstance\u001b[0m\u001b[0;34m(\u001b[0m\u001b[0mkey\u001b[0m\u001b[0;34m,\u001b[0m \u001b[0;34m(\u001b[0m\u001b[0mslice\u001b[0m\u001b[0;34m,\u001b[0m \u001b[0mnp\u001b[0m\u001b[0;34m.\u001b[0m\u001b[0mndarray\u001b[0m\u001b[0;34m,\u001b[0m \u001b[0mtuple\u001b[0m\u001b[0;34m,\u001b[0m \u001b[0mlist\u001b[0m\u001b[0;34m)\u001b[0m\u001b[0;34m)\u001b[0m\u001b[0;34m:\u001b[0m\u001b[0;34m\u001b[0m\u001b[0m\n\u001b[1;32m    487\u001b[0m             \u001b[0;31m# Have to view as a recarray then back as a FITS_rec, otherwise the\u001b[0m\u001b[0;34m\u001b[0m\u001b[0;34m\u001b[0m\u001b[0m\n",
      "\u001b[0;32m/Users/lchevalier/Downloads/Ureka/python/lib/python2.7/site-packages/astropy/io/fits/fitsrec.pyc\u001b[0m in \u001b[0;36mfield\u001b[0;34m(self, key)\u001b[0m\n\u001b[1;32m    600\u001b[0m         \u001b[0;31m# NOTE: The *column* index may not be the same as the field index in\u001b[0m\u001b[0;34m\u001b[0m\u001b[0;34m\u001b[0m\u001b[0m\n\u001b[1;32m    601\u001b[0m         \u001b[0;31m# the recarray, if the column is a phantom column\u001b[0m\u001b[0;34m\u001b[0m\u001b[0;34m\u001b[0m\u001b[0m\n\u001b[0;32m--> 602\u001b[0;31m         \u001b[0mcol_indx\u001b[0m \u001b[0;34m=\u001b[0m \u001b[0m_get_index\u001b[0m\u001b[0;34m(\u001b[0m\u001b[0mself\u001b[0m\u001b[0;34m.\u001b[0m\u001b[0mcolumns\u001b[0m\u001b[0;34m.\u001b[0m\u001b[0mnames\u001b[0m\u001b[0;34m,\u001b[0m \u001b[0mkey\u001b[0m\u001b[0;34m)\u001b[0m\u001b[0;34m\u001b[0m\u001b[0m\n\u001b[0m\u001b[1;32m    603\u001b[0m         \u001b[0;32mif\u001b[0m \u001b[0mself\u001b[0m\u001b[0;34m.\u001b[0m\u001b[0mcolumns\u001b[0m\u001b[0;34m[\u001b[0m\u001b[0mcol_indx\u001b[0m\u001b[0;34m]\u001b[0m\u001b[0;34m.\u001b[0m\u001b[0m_phantom\u001b[0m\u001b[0;34m:\u001b[0m\u001b[0;34m\u001b[0m\u001b[0m\n\u001b[1;32m    604\u001b[0m             warnings.warn(\n",
      "\u001b[0;32m/Users/lchevalier/Downloads/Ureka/python/lib/python2.7/site-packages/astropy/io/fits/column.pyc\u001b[0m in \u001b[0;36m_get_index\u001b[0;34m(names, key)\u001b[0m\n\u001b[1;32m   1545\u001b[0m                 \u001b[0mindx\u001b[0m \u001b[0;34m=\u001b[0m \u001b[0mnames\u001b[0m\u001b[0;34m.\u001b[0m\u001b[0mindex\u001b[0m\u001b[0;34m(\u001b[0m\u001b[0m_key\u001b[0m\u001b[0;34m)\u001b[0m\u001b[0;34m\u001b[0m\u001b[0m\n\u001b[1;32m   1546\u001b[0m             \u001b[0;32melif\u001b[0m \u001b[0mcount\u001b[0m \u001b[0;34m==\u001b[0m \u001b[0;36m0\u001b[0m\u001b[0;34m:\u001b[0m\u001b[0;34m\u001b[0m\u001b[0m\n\u001b[0;32m-> 1547\u001b[0;31m                 \u001b[0;32mraise\u001b[0m \u001b[0mKeyError\u001b[0m\u001b[0;34m(\u001b[0m\u001b[0;34m\"Key '%s' does not exist.\"\u001b[0m \u001b[0;34m%\u001b[0m \u001b[0mkey\u001b[0m\u001b[0;34m)\u001b[0m\u001b[0;34m\u001b[0m\u001b[0m\n\u001b[0m\u001b[1;32m   1548\u001b[0m             \u001b[0;32melse\u001b[0m\u001b[0;34m:\u001b[0m              \u001b[0;31m# multiple match\u001b[0m\u001b[0;34m\u001b[0m\u001b[0m\n\u001b[1;32m   1549\u001b[0m                 \u001b[0;32mraise\u001b[0m \u001b[0mKeyError\u001b[0m\u001b[0;34m(\u001b[0m\u001b[0;34m\"Ambiguous key name '%s'.\"\u001b[0m \u001b[0;34m%\u001b[0m \u001b[0mkey\u001b[0m\u001b[0;34m)\u001b[0m\u001b[0;34m\u001b[0m\u001b[0m\n",
      "\u001b[0;31mKeyError\u001b[0m: \"Key 'col6' does not exist.\""
     ]
    }
   ],
   "source": [
    "reds=RV['col6']>0.9\n",
    "blues=RV['col6']<=0.9\n",
    "\n",
    "plt.figure()\n",
    "\n",
    "plt.scatter(RV['col6'],RV['col5'], c=RV['RV'], cmap='seismic')\n",
    "plt.xlabel('g - i')\n",
    "plt.colorbar()\n",
    "plt.ylabel('I [mag]')\n",
    "plt.savefig(filename[:-5]+'RVvsI.png')\n",
    "\n",
    "plt.figure()\n",
    "plt.hist(RV['RV'], bins=15)\n",
    "plt.xlabel('Radial velocities')\n",
    "#plt.savefig(filename[:-5]+'RVhist.png')\n",
    "\n",
    "plt.figure()\n",
    "plt.hist(RV['col6'], bins=15)\n",
    "plt.xlabel('g - i')\n",
    "#plt.savefig(filename[:-5]+'RVhist.png')\n",
    "\n",
    "plt.figure()\n",
    "plt.scatter(Dist_RV[RV['col6']>0.9],RV['RV'][RV['col6']>0.9], c='r')\n",
    "plt.scatter(Dist_RV[RV['col6']<=0.9],RV['RV'][RV['col6']<=0.9], c='b')\n",
    "plt.ylabel('Radial velocities')\n",
    "plt.xlabel('Galactocentric Distance')\n",
    "plt.savefig(filename[:-5]+'RVvsRad.png')\n",
    "\n",
    "plt.figure()\n",
    "plt.subplot(211)\n",
    "plt.scatter(Dist_RV[RV['col6']>0.9],RV['RV'][RV['col6']>0.9], c='r')\n",
    "#plt.scatter(Dist_RV[RV['col6']<=0.9],RV['RV'][RV['col6']<=0.9], c='b')\n",
    "plt.ylabel('Radial velocities')\n",
    "plt.xlabel('Galactocentric Distance')\n",
    "plt.subplot(212)\n",
    "plt.scatter(Dist_RV[RV['col6']<=0.9],RV['RV'][RV['col6']<=0.9], c='b')\n",
    "plt.ylabel('Radial velocities')\n",
    "plt.xlabel('Galactocentric Distance')\n",
    "\n",
    "plt.savefig('RV_Gdist.png')\n",
    "\n",
    "plt.figure()\n",
    "plt.scatter(Dist_RV,RV['col6'], c=RV['RV'], cmap='rainbow')\n",
    "#plt.scatter(Dist_RV[RV['col6']<=0.9],RV['RV'][RV['col6']<=0.9], c='b')\n",
    "plt.ylabel('g -i')\n",
    "plt.xlabel('Galactocentric Distance')\n",
    "plt.colorbar()\n",
    "\n",
    "\n",
    "\n",
    "\n",
    "\n",
    "plt.figure()\n",
    "plt.scatter(Dist_RV,RV['RV'], c=RV['col6'], cmap='seismic')\n",
    "plt.scatter(Dist_HST_RV,HST_RV['RV'], c=g_i, cmap='seismic', marker='d')\n",
    "#plt.scatter(Dist_RV[RV['col6']<=0.9],RV['RV'][RV['col6']<=0.9], c='b')\n",
    "plt.ylabel('Radial velocity [km/s]')\n",
    "plt.xlabel('Galactocentric Radius [arcsec]')\n",
    "#plt.colorbar()\n",
    "\n",
    "plt.savefig('RV_Gdist2.png')\n",
    "\n",
    "plt.figure(figsize=(8,5))\n",
    "a=RV['RV'][reds]\n",
    "b=RV['RV'][blues]\n",
    "print RV_DEC[blues], b\n",
    "\n",
    "plt.scatter(RV_RA[blues],RV_DEC[blues], c=b, cmap='rainbow', marker='d', label='blue GCs')\n",
    "plt.colorbar()\n",
    "plt.scatter(RV_RA[reds],RV_DEC[reds], c=a, cmap='rainbow', marker='o',label='red GCs')\n",
    "plt.xlim(-0.1,0.1)\n",
    "plt.scatter(0,0, marker='*', c='black', s=40, label= 'Galaxy center')\n",
    "plt.ylim(-0.1,0.1)\n",
    "\n",
    "plt.xlabel('$\\Delta$ RA', size=15)\n",
    "plt.ylabel('$\\Delta$ DEC', size=15)\n",
    "plt.legend(scatterpoints=1)\n",
    "plt.savefig('RV_complete.png')\n",
    "plt.show()"
   ]
  },
  {
   "cell_type": "code",
   "execution_count": 47,
   "metadata": {
    "collapsed": false
   },
   "outputs": [
    {
     "data": {
      "image/png": "[encoded data removed]",
      "text/plain": [
       "<matplotlib.figure.Figure at 0x10bb7bcd0>"
      ]
     },
     "metadata": {},
     "output_type": "display_data"
    }
   ],
   "source": [
    "plt.figure(figsize=(8,6))\n",
    "plt.scatter(GDist_RV[GDist_RV>min(GDist_RV)]/60.,RV['RV'][GDist_RV>min(GDist_RV)], c='orange')\n",
    "#plt.colorbar()\n",
    "plt.scatter(GDist_HST_RV/60.,HST_RV['RV'], c='purple', marker='s')\n",
    "#plt.scatter(Dist_RV[RV['col6']<=0.9],RV['RV'][RV['col6']<=0.9], c='b')\n",
    "plt.ylabel('Radial velocity [km/s]')\n",
    "plt.xlabel('Galactocentric Radius [arcmin]')\n",
    "plt.axhline(617, ls='-')\n",
    "plt.axhline(400, ls='--', c='r')\n",
    "plt.axhline(300, ls='--',c='r')\n",
    "plt.axhline(250, ls='--',c='r')\n",
    "plt.xlim(0,4)\n",
    "plt.ylim(0,1000)\n",
    "plt.fill([1.5,4,4,1.5],[0,0,300,300], color='red',alpha=0.1, edgecolor='grey', hatch='//')\n",
    "#plt.colorbar()\n",
    "\n",
    "plt.savefig('RV_Gdist2.png')"
   ]
  },
  {
   "cell_type": "code",
   "execution_count": 74,
   "metadata": {
    "collapsed": false
   },
   "outputs": [
    {
     "name": "stdout",
     "output_type": "stream",
     "text": [
      "233.5 \n",
      "\n",
      "250.0\n"
     ]
    }
   ],
   "source": [
    "print np.median(RV['RV'][(GDist_RV>min(GDist_RV))&(GDist_RV/60.>=1.5)&(RV['RV']<=300)]), '\\n'\n",
    "print np.median(RV['RV'][(GDist_RV>min(GDist_RV))&(RV['RV']<=300)])"
   ]
  },
  {
   "cell_type": "code",
   "execution_count": 75,
   "metadata": {
    "collapsed": false
   },
   "outputs": [
    {
     "name": "stdout",
     "output_type": "stream",
     "text": [
      "full\n",
      "mean 594.226\n",
      "variance 33761.3 \n",
      "\n",
      "corner\n",
      "mean 657.234\n",
      "variance 27082.5 \n",
      "\n",
      "250\n",
      "mean 609.951\n",
      "variance 28516.1 \n",
      "\n",
      "300\n",
      "mean 627.299\n",
      "variance 23831.2 \n",
      "\n",
      "400\n",
      "mean 650.674\n",
      "variance 19304.8 \n",
      "\n"
     ]
    }
   ],
   "source": [
    "# make file \n",
    "\n",
    "#ascii.write(N4526[(N4526['RV']>=400)&()])\n",
    "#len(N4526[(RV['RV']>=300)&(GDist_RV<=150)])\n",
    "print 'full'\n",
    "print 'mean',np.mean(RV['RV'][GDist_RV>min(GDist_RV)])\n",
    "print 'variance', np.var(RV['RV'][GDist_RV>min(GDist_RV)]), '\\n'\n",
    "\n",
    "print 'corner'\n",
    "print 'mean',np.mean(RV['RV'][(GDist_RV>min(GDist_RV))&(GDist_RV/60.<=1.5)&(RV['RV']>=300)])\n",
    "print 'variance', np.var(RV['RV'][(GDist_RV>min(GDist_RV))&(GDist_RV/60.<=1.5)&(RV['RV']>=300)]), '\\n'\n",
    "\n",
    "print '250'\n",
    "print 'mean',np.mean(RV['RV'][(GDist_RV>min(GDist_RV))&(RV['RV']>=250)])\n",
    "print 'variance', np.var(RV['RV'][(GDist_RV>min(GDist_RV))&(RV['RV']>=250)]), '\\n'\n",
    "\n",
    "print '300'\n",
    "print 'mean',np.mean(RV['RV'][(GDist_RV>min(GDist_RV))&(RV['RV']>=300)])\n",
    "print 'variance', np.var(RV['RV'][(GDist_RV>min(GDist_RV))&(RV['RV']>=300)]), '\\n'\n",
    "\n",
    "print '400'\n",
    "print 'mean',np.mean(RV['RV'][(GDist_RV>min(GDist_RV))&(RV['RV']>=400)])\n",
    "print 'variance', np.var(RV['RV'][(GDist_RV>min(GDist_RV))&(RV['RV']>=400)]), '\\n'"
   ]
  },
  {
   "cell_type": "code",
   "execution_count": 10,
   "metadata": {
    "collapsed": false
   },
   "outputs": [],
   "source": [
    "#HST=N4526\n",
    "SHST= HST['zamag'][HST['VCC']==1535 ]\n",
    "SHST_G= HST['gamag'][HST['VCC']==1535 ]\n",
    "Sel_HST=(HST['VCC']==1535)\n",
    "\n",
    "D_RA=N4526['new_RA']-188.51262\n",
    "D_DEC=N4526['new_Dec']-7.6991162\n",
    "\n",
    "D_HST_RA=HST['new_RA'][HST['VCC']==1535 ]-188.51262\n",
    "D_HST_DEC=HST['new_Dec'][HST['VCC']==1535 ]-7.6991162\n",
    "\n",
    "imag = N4526['zamag']+0.554*(N4526['gamag']-N4526['zamag'])-0.542\n",
    "\n",
    "\n",
    "GDist= ((D_RA**2+D_DEC**2)**0.5)*(60**2)\n",
    "GDist_HST= ((D_HST_RA**2+D_HST_DEC**2)**0.5)*(60**2)"
   ]
  },
  {
   "cell_type": "code",
   "execution_count": 11,
   "metadata": {
    "collapsed": false
   },
   "outputs": [],
   "source": [
    "Bins= [20.5,21,21.5,22,22.5,23,24,25]\n",
    "Bins_G= [21.5,22,22.5,23,23.5,24,24.5,25]\n",
    "\n",
    "HST_binned= np.digitize(SHST[GDist_HST>60], Bins)\n",
    "SSEX_binned= np.digitize(N4526['zamag'][GDist>60],Bins)\n",
    "\n",
    "HST_G_binned= np.digitize(SHST_G[GDist_HST>60], Bins_G)\n",
    "SSEX_G_binned= np.digitize(N4526['gamag'][GDist>60],Bins_G)\n",
    "\n",
    "SSEX_R_binned= np.digitize(N4526['gamag'][GDist>60],Bins_G)\n",
    "\n"
   ]
  },
  {
   "cell_type": "code",
   "execution_count": 12,
   "metadata": {
    "collapsed": false
   },
   "outputs": [
    {
     "name": "stdout",
     "output_type": "stream",
     "text": [
      "HST objects: [ 4  6  9 15 14 12 34 13]\n",
      "I band SUBARU [ 4  6  9 14 11  7  5  0]\n",
      " \n",
      "\n",
      "HST objects: [ 3  7  7 13  8 19 18 14 18]\n",
      "G band SUBARU [ 3  7  7 12  6 13  8  0  0]\n",
      " \n",
      "\n",
      "HST objects: [ 3  7  7 13  8 19 18 14 18]\n",
      "R band SUBARU [ 3  7  7 12  6 13  8  0  0]\n"
     ]
    }
   ],
   "source": [
    "HST_B = np.bincount(HST_binned)\n",
    "SSEX_B = np.bincount(SSEX_binned)\n",
    "\n",
    "\n",
    "\n",
    "if (len(HST_B)>len(SSEX_B)):\n",
    "    SSEX_B=np.insert(SSEX_B,len(SSEX_B),0)\n",
    "    if (len(HST_B)>len(SSEX_B)):\n",
    "        SSEX_B=np.insert(SSEX_B,len(SSEX_B),0)\n",
    "else:\n",
    "    print 'has the right shape'\n",
    "\n",
    "    \n",
    "    \n",
    "    \n",
    "HST_G_B = np.bincount(HST_G_binned)\n",
    "SSEX_G_B = np.bincount(SSEX_G_binned)\n",
    "\n",
    "SSEX_R_B = np.bincount(SSEX_R_binned)\n",
    "\n",
    "\n",
    "\n",
    "\n",
    "if (len(HST_G_B)>len(SSEX_G_B)):\n",
    "    SSEX_G_B=np.insert(SSEX_G_B,len(SSEX_G_B),0)\n",
    "    if (len(HST_G_B)>len(SSEX_G_B)):\n",
    "        SSEX_G_B=np.insert(SSEX_G_B,len(SSEX_G_B),0)\n",
    "else:\n",
    "    print 'should be the right length \\n\\n'\n",
    "\n",
    "if (len(HST_G_B)>len(SSEX_R_B)):\n",
    "    SSEX_R_B=np.insert(SSEX_R_B,len(SSEX_R_B),0)\n",
    "    if (len(HST_G_B)>len(SSEX_R_B)):\n",
    "        SSEX_R_B=np.insert(SSEX_R_B,len(SSEX_R_B),0)\n",
    "else:\n",
    "    print 'should be the right length \\n\\n'\n",
    "\n",
    "\n",
    "\n",
    "print 'HST objects:',HST_B\n",
    "print 'I band SUBARU',SSEX_B\n",
    "print ' \\n'\n",
    "print 'HST objects:',HST_G_B\n",
    "print 'G band SUBARU',SSEX_G_B\n",
    "print ' \\n'\n",
    "print 'HST objects:',HST_G_B\n",
    "print 'R band SUBARU',SSEX_R_B"
   ]
  },
  {
   "cell_type": "code",
   "execution_count": 13,
   "metadata": {
    "collapsed": false
   },
   "outputs": [],
   "source": [
    "completeness_frac=np.true_divide(SSEX_B,HST_B)\n",
    "\n",
    "if len(Bins)<len(completeness_frac):\n",
    "    Bins=np.insert(Bins,0,min(SHST))\n",
    "    \n",
    "if len(Bins)>len(completeness_frac):\n",
    "    completeness_frac=np.insert(completeness_frac,len(completeness_frac),0)\n",
    "    \n",
    "completeness_frac_G=np.true_divide(SSEX_G_B,HST_G_B)\n",
    "\n",
    "if len(Bins_G)<len(completeness_frac_G):\n",
    "    Bins_G=np.insert(Bins_G,0,min(SHST_G))\n",
    "    \n",
    "completeness_frac_R=np.true_divide(SSEX_R_B,HST_G_B)\n",
    "\n",
    "if len(Bins_G)<len(completeness_frac_R):\n",
    "    Bins_G=np.insert(Bins_G,0,min(SHST_R))"
   ]
  },
  {
   "cell_type": "code",
   "execution_count": 14,
   "metadata": {
    "collapsed": false
   },
   "outputs": [
    {
     "name": "stdout",
     "output_type": "stream",
     "text": [
      "[ 0.5         0.40824829  0.33333333  0.24944383  0.23690177  0.22047928\n",
      "  0.06576671  0.        ]\n"
     ]
    },
    {
     "data": {
      "image/png": "[encoded data removed]",
      "text/plain": [
       "<matplotlib.figure.Figure at 0x1130c0a50>"
      ]
     },
     "metadata": {},
     "output_type": "display_data"
    },
    {
     "data": {
      "image/png": "[encoded data removed]",
      "text/plain": [
       "<matplotlib.figure.Figure at 0x115baedd0>"
      ]
     },
     "metadata": {},
     "output_type": "display_data"
    }
   ],
   "source": [
    "def Pritchet_f (mag, mag_0, a ):\n",
    "    f=0.5 *(1-(a*(mag-mag_0))/(1+(a**2)*(mag-mag_0)**2)**0.5)\n",
    "    \n",
    "    return f\n",
    "fake= np.arange(20,25.5,0.25)\n",
    "print np.true_divide(np.sqrt(SSEX_B),HST_B)\n",
    "\n",
    "\n",
    "np.true_divide(np.sqrt(SSEX_G_B),HST_G_B)\n",
    "\n",
    "plt.figure()\n",
    "\n",
    "plt.scatter(Bins, completeness_frac)\n",
    "plt.errorbar(Bins, completeness_frac, xerr=0,yerr=np.true_divide(np.sqrt(SSEX_B),HST_B),color='b',fmt='.')\n",
    "plt.xlabel('zmag')\n",
    "plt.ylabel('$f_{comp.}$')\n",
    "#plt.ylim(0.4,1.1)\n",
    "plt.plot(fake,Pritchet_f(fake,26,0.5))\n",
    "plt.savefig(filename[:-5]+'_Mag_completeness_I.png')\n",
    "\n",
    "\n",
    "plt.figure()\n",
    "\n",
    "plt.scatter(Bins_G, completeness_frac_G)\n",
    "plt.plot(fake,Pritchet_f(fake,24,2.9), linestyle = '--')\n",
    "plt.errorbar(Bins_G, completeness_frac_G, xerr=0,yerr=np.true_divide(np.sqrt(SSEX_G_B),HST_G_B),color='b',fmt='.')\n",
    "plt.xlabel('Gmag')\n",
    "plt.ylabel('$f_{comp.}$')\n",
    "plt.savefig(filename[:-5]+'_Mag_completeness_G.png')\n",
    "#plt.figure()\n",
    "#plt.hist(completeness_frac)\n",
    "\n",
    "\n",
    "plt.show()"
   ]
  },
  {
   "cell_type": "markdown",
   "metadata": {},
   "source": [
    "# Completeness with galactocentric radius \n",
    "using only sources out to 21st mag (may need minor completeness correction)\n",
    "apply completeness correction for any large range of magnitudes as at 22"
   ]
  },
  {
   "cell_type": "code",
   "execution_count": 15,
   "metadata": {
    "collapsed": false
   },
   "outputs": [
    {
     "name": "stdout",
     "output_type": "stream",
     "text": [
      "has the right shape\n",
      "[3 2 3 5 7 3 4 2 5 3]\n",
      "[0 1 3 4 7 3 4 2 5 3]\n",
      "9 10\n"
     ]
    }
   ],
   "source": [
    "D_RA=N4526['new_RA'][(N4526['gamag']<=22.5)]-188.51262\n",
    "D_DEC=N4526['new_Dec'][(N4526['gamag']<=22.5)]-7.6991162\n",
    "\n",
    "D_HST_RA=HST['new_RA'][Sel_HST&(HST['gamag']<=22.5)]-188.51262\n",
    "D_HST_DEC=HST['new_Dec'][Sel_HST& (HST['gamag']<=22.5)]-7.6991162\n",
    "\n",
    "\n",
    "\n",
    "GDist= ((D_RA**2+D_DEC**2)**0.5)*(60**2)\n",
    "GDist_HST= ((D_HST_RA**2+D_HST_DEC**2)**0.5)*(60**2)\n",
    "\n",
    "Bins_Dist= [20,30,40,50,60,70,80,100,120]\n",
    "\n",
    "HST_DB= np.digitize(GDist_HST, Bins_Dist)\n",
    "SSEX_DB= np.digitize(GDist,Bins_Dist)\n",
    "\n",
    "HST_Dist = np.bincount(HST_DB)\n",
    "SSEX_Dist = np.bincount(SSEX_DB)\n",
    "\n",
    "\n",
    "\n",
    "if (len(HST_Dist)>len(SSEX_Dist)):\n",
    "    SSEX_Dist=np.insert(SSEX_Dist,len(SSEX_Dist),0)\n",
    "if len(HST_Dist)<len(SSEX_Dist):\n",
    "    HST_Dist=np.insert(HST_Dist,len(HST_Dist),0)\n",
    "else:\n",
    "    print 'has the right shape'\n",
    "\n",
    "\n",
    "print HST_Dist\n",
    "print SSEX_Dist\n",
    "\n",
    "completeness_frac_Dist=np.true_divide(SSEX_Dist+0.0001,HST_Dist+0.0001)\n",
    "\n",
    "print len (Bins_Dist), len(completeness_frac_Dist)\n",
    "\n",
    "if len(Bins_Dist)<len(completeness_frac_Dist):\n",
    "    Bins_Dist=np.insert(Bins_Dist,len(Bins_Dist),max(Bins_Dist)-Bins_Dist[1]+Bins_Dist[2])\n",
    "if len(Bins_Dist)>len(completeness_frac_Dist):\n",
    "    print 'help'\n",
    "\n"
   ]
  },
  {
   "cell_type": "code",
   "execution_count": 16,
   "metadata": {
    "collapsed": false
   },
   "outputs": [
    {
     "name": "stdout",
     "output_type": "stream",
     "text": [
      "130\n"
     ]
    },
    {
     "data": {
      "image/png": "[encoded data removed]",
      "text/plain": [
       "<matplotlib.figure.Figure at 0x1142727d0>"
      ]
     },
     "metadata": {},
     "output_type": "display_data"
    }
   ],
   "source": [
    "plt.figure()\n",
    "fake2= np.arange(20,max(Bins_Dist),0.001)\n",
    "plt.plot((fake2),Pritchet_f(fake2,30,-0.5), linestyle = '--')\n",
    "print max(Bins_Dist)\n",
    "\n",
    "plt.scatter(Bins_Dist, completeness_frac_Dist)\n",
    "plt.xticks(Bins_Dist,np.round(np.true_divide(Bins_Dist,60),2))\n",
    "plt.errorbar(Bins_Dist, completeness_frac_Dist, xerr=0,yerr=np.true_divide(np.sqrt(SSEX_Dist),HST_Dist),color='b',fmt='.')\n",
    "plt.xlabel('GDist (arcmin)')\n",
    "plt.ylabel('$f_{comp.}$')\n",
    "plt.savefig(filename[:-5]+'_GDist_completeness.png')\n",
    "plt.show()"
   ]
  },
  {
   "cell_type": "code",
   "execution_count": 17,
   "metadata": {
    "collapsed": false
   },
   "outputs": [
    {
     "data": {
      "image/png": "[encoded data removed]",
      "text/plain": [
       "<matplotlib.figure.Figure at 0x114530450>"
      ]
     },
     "metadata": {},
     "output_type": "display_data"
    }
   ],
   "source": [
    "plt.figure(figsize=(7,3))\n",
    "plt.subplot(122)\n",
    "Bins_i = Bins_G-0.5\n",
    "plt.scatter(Bins_i, completeness_frac_G)\n",
    "plt.plot(fake-0.5,Pritchet_f(fake-0.5,24-0.5,5), linestyle = '--')\n",
    "plt.errorbar(Bins_i, completeness_frac_G, xerr=0,yerr=np.true_divide(np.sqrt(SSEX_G_B),HST_G_B),color='b',fmt='.')\n",
    "plt.xlabel('i [mag]',size=15)\n",
    "#plt.ylabel('$f_{comp.}$')\n",
    "#plt.savefig(filename[:-5]+'_Mag_completeness_G.png')\n",
    "\n",
    "#Bins_new =Bins_Dist/60\n",
    "plt.subplot(121)\n",
    "plt.scatter(Bins_Dist, completeness_frac_Dist)\n",
    "plt.plot((fake2),Pritchet_f(fake2,30,-0.5), linestyle = '--')\n",
    "#plt.xticks(Bins_Dist,np.round(np.true_divide(Bins_Dist,60),2))\n",
    "plt.errorbar(Bins_Dist, completeness_frac_Dist, xerr=0,yerr=np.true_divide(np.sqrt(SSEX_Dist),HST_Dist),color='b',fmt='.')\n",
    "plt.xlabel('Galactocentric radius [arcsec]', size=15)\n",
    "#plt.ylim(-0.5,2.5)\n",
    "#plt.xticks(Bins_Dist,np.round(np.true_divide(Bins_Dist,60),2))\n",
    "plt.ylabel('Completeness', size=15)\n",
    "plt.tight_layout()\n",
    "plt.savefig('HST_comp.png')\n",
    "plt.show()"
   ]
  },
  {
   "cell_type": "code",
   "execution_count": null,
   "metadata": {
    "collapsed": true
   },
   "outputs": [],
   "source": [
    "\n"
   ]
  }
 ],
 "metadata": {
  "kernelspec": {
   "display_name": "Python 2",
   "language": "python",
   "name": "python2"
  },
  "language_info": {
   "codemirror_mode": {
    "name": "ipython",
    "version": 2
   },
   "file_extension": ".py",
   "mimetype": "text/x-python",
   "name": "python",
   "nbconvert_exporter": "python",
   "pygments_lexer": "ipython2",
   "version": "2.7.5"
  }
 },
 "nbformat": 4,
 "nbformat_minor": 2
}
